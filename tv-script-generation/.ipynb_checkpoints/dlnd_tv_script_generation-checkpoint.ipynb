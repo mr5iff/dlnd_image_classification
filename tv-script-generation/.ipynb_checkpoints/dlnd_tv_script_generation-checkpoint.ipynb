{
 "cells": [
  {
   "cell_type": "markdown",
   "metadata": {
    "deletable": true,
    "editable": true
   },
   "source": [
    "# TV Script Generation\n",
    "In this project, you'll generate your own [Simpsons](https://en.wikipedia.org/wiki/The_Simpsons) TV scripts using RNNs.  You'll be using part of the [Simpsons dataset](https://www.kaggle.com/wcukierski/the-simpsons-by-the-data) of scripts from 27 seasons.  The Neural Network you'll build will generate a new TV script for a scene at [Moe's Tavern](https://simpsonswiki.com/wiki/Moe's_Tavern).\n",
    "## Get the Data\n",
    "The data is already provided for you.  You'll be using a subset of the original dataset.  It consists of only the scenes in Moe's Tavern.  This doesn't include other versions of the tavern, like \"Moe's Cavern\", \"Flaming Moe's\", \"Uncle Moe's Family Feed-Bag\", etc.."
   ]
  },
  {
   "cell_type": "code",
   "execution_count": 12,
   "metadata": {
    "collapsed": false,
    "deletable": true,
    "editable": true
   },
   "outputs": [],
   "source": [
    "\"\"\"\n",
    "DON'T MODIFY ANYTHING IN THIS CELL\n",
    "\"\"\"\n",
    "import helper\n",
    "\n",
    "data_dir = './data/simpsons/moes_tavern_lines.txt'\n",
    "text = helper.load_data(data_dir)\n",
    "# Ignore notice, since we don't use it for analysing the data\n",
    "text = text[81:]"
   ]
  },
  {
   "cell_type": "markdown",
   "metadata": {
    "deletable": true,
    "editable": true
   },
   "source": [
    "## Explore the Data\n",
    "Play around with `view_sentence_range` to view different parts of the data."
   ]
  },
  {
   "cell_type": "code",
   "execution_count": 16,
   "metadata": {
    "collapsed": false,
    "deletable": true,
    "editable": true
   },
   "outputs": [
    {
     "name": "stdout",
     "output_type": "stream",
     "text": [
      "Dataset Stats\n",
      "Roughly the number of unique words: 11492\n",
      "Number of scenes: 262\n",
      "Average number of sentences in each scene: 15.248091603053435\n",
      "Number of lines: 4257\n",
      "Average number of words in each line: 11.50434578341555\n",
      "\n",
      "The sentences 0 to 10:\n",
      "Moe_Szyslak: (INTO PHONE) Moe's Tavern. Where the elite meet to drink.\n",
      "Bart_Simpson: Eh, yeah, hello, is Mike there? Last name, Rotch.\n",
      "Moe_Szyslak: (INTO PHONE) Hold on, I'll check. (TO BARFLIES) Mike Rotch. Mike Rotch. Hey, has anybody seen Mike Rotch, lately?\n",
      "Moe_Szyslak: (INTO PHONE) Listen you little puke. One of these days I'm gonna catch you, and I'm gonna carve my name on your back with an ice pick.\n",
      "Moe_Szyslak: What's the matter Homer? You're not your normal effervescent self.\n",
      "Homer_Simpson: I got my problems, Moe. Give me another one.\n",
      "Moe_Szyslak: Homer, hey, you should not drink to forget your problems.\n",
      "Barney_Gumble: Yeah, you should only drink to enhance your social skills.\n",
      "\n",
      "\n"
     ]
    }
   ],
   "source": [
    "view_sentence_range = (0, 10)\n",
    "\n",
    "\"\"\"\n",
    "DON'T MODIFY ANYTHING IN THIS CELL\n",
    "\"\"\"\n",
    "import numpy as np\n",
    "\n",
    "print('Dataset Stats')\n",
    "print('Roughly the number of unique words: {}'.format(len({word: None for word in text.split()})))\n",
    "scenes = text.split('\\n\\n')\n",
    "print('Number of scenes: {}'.format(len(scenes)))\n",
    "sentence_count_scene = [scene.count('\\n') for scene in scenes]\n",
    "print('Average number of sentences in each scene: {}'.format(np.average(sentence_count_scene)))\n",
    "\n",
    "sentences = [sentence for scene in scenes for sentence in scene.split('\\n')]\n",
    "print('Number of lines: {}'.format(len(sentences)))\n",
    "word_count_sentence = [len(sentence.split()) for sentence in sentences]\n",
    "print('Average number of words in each line: {}'.format(np.average(word_count_sentence)))\n",
    "\n",
    "print()\n",
    "print('The sentences {} to {}:'.format(*view_sentence_range))\n",
    "print('\\n'.join(text.split('\\n')[view_sentence_range[0]:view_sentence_range[1]]))"
   ]
  },
  {
   "cell_type": "markdown",
   "metadata": {
    "deletable": true,
    "editable": true
   },
   "source": [
    "## Implement Preprocessing Functions\n",
    "The first thing to do to any dataset is preprocessing.  Implement the following preprocessing functions below:\n",
    "- Lookup Table\n",
    "- Tokenize Punctuation\n",
    "\n",
    "### Lookup Table\n",
    "To create a word embedding, you first need to transform the words to ids.  In this function, create two dictionaries:\n",
    "- Dictionary to go from the words to an id, we'll call `vocab_to_int`\n",
    "- Dictionary to go from the id to word, we'll call `int_to_vocab`\n",
    "\n",
    "Return these dictionaries in the following tuple `(vocab_to_int, int_to_vocab)`"
   ]
  },
  {
   "cell_type": "code",
   "execution_count": 17,
   "metadata": {
    "collapsed": false,
    "deletable": true,
    "editable": true
   },
   "outputs": [
    {
     "name": "stdout",
     "output_type": "stream",
     "text": [
      "Tests Passed\n"
     ]
    }
   ],
   "source": [
    "import numpy as np\n",
    "import problem_unittests as tests\n",
    "\n",
    "def create_lookup_tables(text):\n",
    "    \"\"\"\n",
    "    Create lookup tables for vocabulary\n",
    "    :param text: The text of tv scripts split into words\n",
    "    :return: A tuple of dicts (vocab_to_int, int_to_vocab)\n",
    "    \"\"\"\n",
    "    # TODO: Implement Function\n",
    "    from collections import Counter\n",
    "    counter = Counter(text)\n",
    "    int_to_vocab = dict(enumerate(counter.keys()))\n",
    "    vocab_to_int = {v: k for k, v in int_to_vocab.items()}\n",
    "    return vocab_to_int, int_to_vocab\n",
    "\n",
    "\n",
    "\"\"\"\n",
    "DON'T MODIFY ANYTHING IN THIS CELL THAT IS BELOW THIS LINE\n",
    "\"\"\"\n",
    "tests.test_create_lookup_tables(create_lookup_tables)"
   ]
  },
  {
   "cell_type": "markdown",
   "metadata": {
    "deletable": true,
    "editable": true
   },
   "source": [
    "### Tokenize Punctuation\n",
    "We'll be splitting the script into a word array using spaces as delimiters.  However, punctuations like periods and exclamation marks make it hard for the neural network to distinguish between the word \"bye\" and \"bye!\".\n",
    "\n",
    "Implement the function `token_lookup` to return a dict that will be used to tokenize symbols like \"!\" into \"||Exclamation_Mark||\".  Create a dictionary for the following symbols where the symbol is the key and value is the token:\n",
    "- Period ( . )\n",
    "- Comma ( , )\n",
    "- Quotation Mark ( \" )\n",
    "- Semicolon ( ; )\n",
    "- Exclamation mark ( ! )\n",
    "- Question mark ( ? )\n",
    "- Left Parentheses ( ( )\n",
    "- Right Parentheses ( ) )\n",
    "- Dash ( -- )\n",
    "- Return ( \\n )\n",
    "\n",
    "This dictionary will be used to token the symbols and add the delimiter (space) around it.  This separates the symbols as it's own word, making it easier for the neural network to predict on the next word. Make sure you don't use a token that could be confused as a word. Instead of using the token \"dash\", try using something like \"||dash||\"."
   ]
  },
  {
   "cell_type": "code",
   "execution_count": 18,
   "metadata": {
    "collapsed": false,
    "deletable": true,
    "editable": true
   },
   "outputs": [
    {
     "name": "stdout",
     "output_type": "stream",
     "text": [
      "Tests Passed\n"
     ]
    }
   ],
   "source": [
    "def token_lookup():\n",
    "    \"\"\"\n",
    "    Generate a dict to turn punctuation into a token.\n",
    "    :return: Tokenize dictionary where the key is the punctuation and the value is the token\n",
    "    \"\"\"\n",
    "    # TODO: Implement Function\n",
    "    return {'.': '||Period||',\n",
    "           ',': '||Comma||',\n",
    "           '\"': '||Quotation||',\n",
    "           ';': '||Semicolon||',\n",
    "            '!': '||Exclamation||',\n",
    "            '?': '||Question||',\n",
    "            '(': '||LeftParentheses||',\n",
    "            ')': '||RightParentheses||',\n",
    "            '--': '||Dash||',\n",
    "            '\\n': '||Return||',\n",
    "           }\n",
    "\n",
    "\"\"\"\n",
    "DON'T MODIFY ANYTHING IN THIS CELL THAT IS BELOW THIS LINE\n",
    "\"\"\"\n",
    "tests.test_tokenize(token_lookup)"
   ]
  },
  {
   "cell_type": "markdown",
   "metadata": {
    "deletable": true,
    "editable": true
   },
   "source": [
    "## Preprocess all the data and save it\n",
    "Running the code cell below will preprocess all the data and save it to file."
   ]
  },
  {
   "cell_type": "code",
   "execution_count": 19,
   "metadata": {
    "collapsed": false,
    "deletable": true,
    "editable": true
   },
   "outputs": [],
   "source": [
    "\"\"\"\n",
    "DON'T MODIFY ANYTHING IN THIS CELL\n",
    "\"\"\"\n",
    "# Preprocess Training, Validation, and Testing Data\n",
    "helper.preprocess_and_save_data(data_dir, token_lookup, create_lookup_tables)"
   ]
  },
  {
   "cell_type": "markdown",
   "metadata": {
    "deletable": true,
    "editable": true
   },
   "source": [
    "# Check Point\n",
    "This is your first checkpoint. If you ever decide to come back to this notebook or have to restart the notebook, you can start from here. The preprocessed data has been saved to disk."
   ]
  },
  {
   "cell_type": "code",
   "execution_count": 20,
   "metadata": {
    "collapsed": false,
    "deletable": true,
    "editable": true
   },
   "outputs": [],
   "source": [
    "\"\"\"\n",
    "DON'T MODIFY ANYTHING IN THIS CELL\n",
    "\"\"\"\n",
    "import helper\n",
    "import numpy as np\n",
    "import problem_unittests as tests\n",
    "\n",
    "int_text, vocab_to_int, int_to_vocab, token_dict = helper.load_preprocess()"
   ]
  },
  {
   "cell_type": "markdown",
   "metadata": {
    "deletable": true,
    "editable": true
   },
   "source": [
    "## Build the Neural Network\n",
    "You'll build the components necessary to build a RNN by implementing the following functions below:\n",
    "- get_inputs\n",
    "- get_init_cell\n",
    "- get_embed\n",
    "- build_rnn\n",
    "- build_nn\n",
    "- get_batches\n",
    "\n",
    "### Check the Version of TensorFlow and Access to GPU"
   ]
  },
  {
   "cell_type": "code",
   "execution_count": 21,
   "metadata": {
    "collapsed": false
   },
   "outputs": [
    {
     "name": "stdout",
     "output_type": "stream",
     "text": [
      "TensorFlow Version: 1.0.0\n",
      "Default GPU Device: /gpu:0\n"
     ]
    }
   ],
   "source": [
    "\"\"\"\n",
    "DON'T MODIFY ANYTHING IN THIS CELL\n",
    "\"\"\"\n",
    "from distutils.version import LooseVersion\n",
    "import warnings\n",
    "import tensorflow as tf\n",
    "\n",
    "# Check TensorFlow Version\n",
    "assert LooseVersion(tf.__version__) >= LooseVersion('1.0'), 'Please use TensorFlow version 1.0 or newer'\n",
    "print('TensorFlow Version: {}'.format(tf.__version__))\n",
    "\n",
    "# Check for a GPU\n",
    "if not tf.test.gpu_device_name():\n",
    "    warnings.warn('No GPU found. Please use a GPU to train your neural network.')\n",
    "else:\n",
    "    print('Default GPU Device: {}'.format(tf.test.gpu_device_name()))"
   ]
  },
  {
   "cell_type": "markdown",
   "metadata": {},
   "source": [
    "### Input\n",
    "Implement the `get_inputs()` function to create TF Placeholders for the Neural Network.  It should create the following placeholders:\n",
    "- Input text placeholder named \"input\" using the [TF Placeholder](https://www.tensorflow.org/api_docs/python/tf/placeholder) `name` parameter.\n",
    "- Targets placeholder\n",
    "- Learning Rate placeholder\n",
    "\n",
    "Return the placeholders in the following the tuple `(Input, Targets, LearingRate)`"
   ]
  },
  {
   "cell_type": "code",
   "execution_count": 22,
   "metadata": {
    "collapsed": false,
    "deletable": true,
    "editable": true
   },
   "outputs": [
    {
     "name": "stdout",
     "output_type": "stream",
     "text": [
      "Tests Passed\n"
     ]
    }
   ],
   "source": [
    "def get_inputs():\n",
    "    \"\"\"\n",
    "    Create TF Placeholders for input, targets, and learning rate.\n",
    "    :return: Tuple (input, targets, learning rate)\n",
    "    \"\"\"\n",
    "    # TODO: Implement Function\n",
    "#     input_ = tf.placeholder(tf.int32, shape=len(token_dict), name='input')\n",
    "#     targets = tf.placeholder(tf.int32, shape=len(token_dict), name='targets')\n",
    "#     learning_rate = tf.placeholder(tf.float32, name='learning_rate')\n",
    "\n",
    "    input_ = tf.placeholder(tf.int32, shape=[None, None], name='input')\n",
    "    targets = tf.placeholder(tf.int32, shape=[None, None], name='targets')\n",
    "    learning_rate = tf.placeholder(tf.float32, name='learning_rate')\n",
    "    return input_, targets, learning_rate\n",
    "\n",
    "\n",
    "\"\"\"\n",
    "DON'T MODIFY ANYTHING IN THIS CELL THAT IS BELOW THIS LINE\n",
    "\"\"\"\n",
    "tests.test_get_inputs(get_inputs)"
   ]
  },
  {
   "cell_type": "markdown",
   "metadata": {
    "deletable": true,
    "editable": true
   },
   "source": [
    "### Build RNN Cell and Initialize\n",
    "Stack one or more [`BasicLSTMCells`](https://www.tensorflow.org/api_docs/python/tf/contrib/rnn/BasicLSTMCell) in a [`MultiRNNCell`](https://www.tensorflow.org/api_docs/python/tf/contrib/rnn/MultiRNNCell).\n",
    "- The Rnn size should be set using `rnn_size`\n",
    "- Initalize Cell State using the MultiRNNCell's [`zero_state()`](https://www.tensorflow.org/api_docs/python/tf/contrib/rnn/MultiRNNCell#zero_state) function\n",
    "    - Apply the name \"initial_state\" to the initial state using [`tf.identity()`](https://www.tensorflow.org/api_docs/python/tf/identity)\n",
    "\n",
    "Return the cell and initial state in the following tuple `(Cell, InitialState)`"
   ]
  },
  {
   "cell_type": "code",
   "execution_count": 61,
   "metadata": {
    "collapsed": false,
    "deletable": true,
    "editable": true
   },
   "outputs": [
    {
     "name": "stdout",
     "output_type": "stream",
     "text": [
      "Tests Passed\n"
     ]
    }
   ],
   "source": [
    "def get_init_cell(batch_size, rnn_size):\n",
    "    \"\"\"\n",
    "    Create an RNN Cell and initialize it.\n",
    "    :param batch_size: Size of batches\n",
    "    :param rnn_size: Size of RNNs\n",
    "    :return: Tuple (cell, initialize state)\n",
    "    \"\"\"\n",
    "    # TODO: Implement Function\n",
    "    lstm_layer = 3\n",
    "    cell = tf.contrib.rnn.BasicLSTMCell(num_units=rnn_size)\n",
    "    cells = tf.contrib.rnn.MultiRNNCell([cell] * lstm_layer)\n",
    "    init_state = tf.identity(cells.zero_state(batch_size, tf.float32), name='initial_state')\n",
    "    return cells, init_state\n",
    "\n",
    "\n",
    "\"\"\"\n",
    "DON'T MODIFY ANYTHING IN THIS CELL THAT IS BELOW THIS LINE\n",
    "\"\"\"\n",
    "tests.test_get_init_cell(get_init_cell)"
   ]
  },
  {
   "cell_type": "markdown",
   "metadata": {
    "deletable": true,
    "editable": true
   },
   "source": [
    "### Word Embedding\n",
    "Apply embedding to `input_data` using TensorFlow.  Return the embedded sequence."
   ]
  },
  {
   "cell_type": "code",
   "execution_count": 25,
   "metadata": {
    "collapsed": false,
    "deletable": true,
    "editable": true
   },
   "outputs": [
    {
     "name": "stdout",
     "output_type": "stream",
     "text": [
      "Tests Passed\n"
     ]
    }
   ],
   "source": [
    "def get_embed(input_data, vocab_size, embed_dim):\n",
    "    \"\"\"\n",
    "    Create embedding for <input_data>.\n",
    "    :param input_data: TF placeholder for text input.\n",
    "    :param vocab_size: Number of words in vocabulary.\n",
    "    :param embed_dim: Number of embedding dimensions\n",
    "    :return: Embedded input.\n",
    "    \"\"\"\n",
    "    # TODO: Implement Function\n",
    "    embedings = tf.Variable(tf.random_uniform((vocab_size, embed_dim), name='embedings'))\n",
    "    embed = tf.nn.embedding_lookup(embedings, input_data)\n",
    "    return embed\n",
    "\n",
    "\n",
    "\"\"\"\n",
    "DON'T MODIFY ANYTHING IN THIS CELL THAT IS BELOW THIS LINE\n",
    "\"\"\"\n",
    "tests.test_get_embed(get_embed)"
   ]
  },
  {
   "cell_type": "markdown",
   "metadata": {
    "deletable": true,
    "editable": true
   },
   "source": [
    "### Build RNN\n",
    "You created a RNN Cell in the `get_init_cell()` function.  Time to use the cell to create a RNN.\n",
    "- Build the RNN using the [`tf.nn.dynamic_rnn()`](https://www.tensorflow.org/api_docs/python/tf/nn/dynamic_rnn)\n",
    " - Apply the name \"final_state\" to the final state using [`tf.identity()`](https://www.tensorflow.org/api_docs/python/tf/identity)\n",
    "\n",
    "Return the outputs and final_state state in the following tuple `(Outputs, FinalState)` "
   ]
  },
  {
   "cell_type": "code",
   "execution_count": 26,
   "metadata": {
    "collapsed": false,
    "deletable": true,
    "editable": true
   },
   "outputs": [
    {
     "name": "stdout",
     "output_type": "stream",
     "text": [
      "Tests Passed\n"
     ]
    }
   ],
   "source": [
    "def build_rnn(cell, inputs):\n",
    "    \"\"\"\n",
    "    Create a RNN using a RNN Cell\n",
    "    :param cell: RNN Cell\n",
    "    :param inputs: Input text data\n",
    "    :return: Tuple (Outputs, Final State)\n",
    "    \"\"\"\n",
    "    # TODO: Implement Function\n",
    "    outputs, final_state = tf.nn.dynamic_rnn(cell=cell, inputs=inputs, dtype=tf.float32)\n",
    "    final_state = tf.identity(final_state, name='final_state')\n",
    "    return outputs, final_state\n",
    "\n",
    "\n",
    "\"\"\"\n",
    "DON'T MODIFY ANYTHING IN THIS CELL THAT IS BELOW THIS LINE\n",
    "\"\"\"\n",
    "tests.test_build_rnn(build_rnn)"
   ]
  },
  {
   "cell_type": "markdown",
   "metadata": {
    "deletable": true,
    "editable": true
   },
   "source": [
    "### Build the Neural Network\n",
    "Apply the functions you implemented above to:\n",
    "- Apply embedding to `input_data` using your `get_embed(input_data, vocab_size, embed_dim)` function.\n",
    "- Build RNN using `cell` and your `build_rnn(cell, inputs)` function.\n",
    "- Apply a fully connected layer with a linear activation and `vocab_size` as the number of outputs.\n",
    "\n",
    "Return the logits and final state in the following tuple (Logits, FinalState) "
   ]
  },
  {
   "cell_type": "code",
   "execution_count": 62,
   "metadata": {
    "collapsed": false,
    "deletable": true,
    "editable": true
   },
   "outputs": [
    {
     "name": "stdout",
     "output_type": "stream",
     "text": [
      "Tests Passed\n"
     ]
    }
   ],
   "source": [
    "def build_nn(cell, rnn_size, input_data, vocab_size):\n",
    "    \"\"\"\n",
    "    Build part of the neural network\n",
    "    :param cell: RNN cell\n",
    "    :param rnn_size: Size of rnns\n",
    "    :param input_data: Input data\n",
    "    :param vocab_size: Vocabulary size\n",
    "    :return: Tuple (Logits, FinalState)\n",
    "    \"\"\"\n",
    "    # TODO: Implement Function\n",
    "    embed = get_embed(input_data, vocab_size, embed_dim=rnn_size)\n",
    "    output, final_state = build_rnn(cell, embed)\n",
    "    logits = tf.contrib.layers.fully_connected(output, activation_fn=None, num_outputs=1024)\n",
    "    logits = tf.contrib.layers.fully_connected(logits, activation_fn=None, num_outputs=1024)\n",
    "    logits = tf.contrib.layers.fully_connected(logits, activation_fn=None, num_outputs=vocab_size)\n",
    "    \n",
    "    return logits, final_state\n",
    "\n",
    "\n",
    "\"\"\"\n",
    "DON'T MODIFY ANYTHING IN THIS CELL THAT IS BELOW THIS LINE\n",
    "\"\"\"\n",
    "tests.test_build_nn(build_nn)"
   ]
  },
  {
   "cell_type": "markdown",
   "metadata": {
    "deletable": true,
    "editable": true
   },
   "source": [
    "### Batches\n",
    "Implement `get_batches` to create batches of input and targets using `int_text`.  The batches should be a Numpy array with the shape `(number of batches, 2, batch size, sequence length)`. Each batch contains two elements:\n",
    "- The first element is a single batch of **input** with the shape `[batch size, sequence length]`\n",
    "- The second element is a single batch of **targets** with the shape `[batch size, sequence length]`\n",
    "\n",
    "If you can't fill the last batch with enough data, drop the last batch.\n",
    "\n",
    "For exmple, `get_batches([1, 2, 3, 4, 5, 6, 7, 8, 9, 10, 11, 12, 13, 14, 15], 2, 3)` would return a Numpy array of the following:\n",
    "```\n",
    "[\n",
    "  # First Batch\n",
    "  [\n",
    "    # Batch of Input\n",
    "    [[ 1  2  3], [ 7  8  9]],\n",
    "    # Batch of targets\n",
    "    [[ 2  3  4], [ 8  9 10]]\n",
    "  ],\n",
    " \n",
    "  # Second Batch\n",
    "  [\n",
    "    # Batch of Input\n",
    "    [[ 4  5  6], [10 11 12]],\n",
    "    # Batch of targets\n",
    "    [[ 5  6  7], [11 12 13]]\n",
    "  ]\n",
    "]\n",
    "```"
   ]
  },
  {
   "cell_type": "code",
   "execution_count": 28,
   "metadata": {
    "collapsed": false,
    "editable": true
   },
   "outputs": [
    {
     "name": "stdout",
     "output_type": "stream",
     "text": [
      "Tests Passed\n"
     ]
    }
   ],
   "source": [
    "def get_batches(int_text, batch_size, seq_length):\n",
    "    \"\"\"\n",
    "    Return batches of input and target\n",
    "    :param int_text: Text with the words replaced by their ids\n",
    "    :param batch_size: The size of batch\n",
    "    :param seq_length: The length of sequence\n",
    "    :return: Batches as a Numpy array\n",
    "    \"\"\"\n",
    "    n_batches = int(len(int_text) / (batch_size * seq_length))\n",
    "    xdata = np.array(int_text[: n_batches * batch_size * seq_length])\n",
    "    ydata = np.array(int_text[1: n_batches * batch_size * seq_length + 1])\n",
    "\n",
    "    x_batches = np.split(xdata.reshape(batch_size, -1), n_batches, 1)\n",
    "    y_batches = np.split(ydata.reshape(batch_size, -1), n_batches, 1)\n",
    "\n",
    "    return np.array(list(zip(x_batches, y_batches)))\n",
    "    return output\n",
    "\n",
    "\n",
    "\"\"\"\n",
    "DON'T MODIFY ANYTHING IN THIS CELL THAT IS BELOW THIS LINE\n",
    "\"\"\"\n",
    "tests.test_get_batches(get_batches)"
   ]
  },
  {
   "cell_type": "markdown",
   "metadata": {
    "deletable": true,
    "editable": true
   },
   "source": [
    "## Neural Network Training\n",
    "### Hyperparameters\n",
    "Tune the following parameters:\n",
    "\n",
    "- Set `num_epochs` to the number of epochs.\n",
    "- Set `batch_size` to the batch size.\n",
    "- Set `rnn_size` to the size of the RNNs.\n",
    "- Set `seq_length` to the length of sequence.\n",
    "- Set `learning_rate` to the learning rate.\n",
    "- Set `show_every_n_batches` to the number of batches the neural network should print progress."
   ]
  },
  {
   "cell_type": "code",
   "execution_count": 70,
   "metadata": {
    "collapsed": true,
    "deletable": true,
    "editable": true
   },
   "outputs": [],
   "source": [
    "# Number of Epochs\n",
    "num_epochs = 100\n",
    "# Batch Size\n",
    "batch_size = 128\n",
    "# RNN Size\n",
    "rnn_size = 300\n",
    "# Sequence Length\n",
    "seq_length = 25\n",
    "# Learning Rate\n",
    "learning_rate = 0.001\n",
    "# Show stats for every n number of batches\n",
    "show_every_n_batches = 5\n",
    "\n",
    "\"\"\"\n",
    "DON'T MODIFY ANYTHING IN THIS CELL THAT IS BELOW THIS LINE\n",
    "\"\"\"\n",
    "save_dir = './save'"
   ]
  },
  {
   "cell_type": "markdown",
   "metadata": {
    "deletable": true,
    "editable": true
   },
   "source": [
    "### Build the Graph\n",
    "Build the graph using the neural network you implemented."
   ]
  },
  {
   "cell_type": "code",
   "execution_count": 71,
   "metadata": {
    "collapsed": false,
    "deletable": true,
    "editable": true
   },
   "outputs": [],
   "source": [
    "\"\"\"\n",
    "DON'T MODIFY ANYTHING IN THIS CELL\n",
    "\"\"\"\n",
    "from tensorflow.contrib import seq2seq\n",
    "\n",
    "train_graph = tf.Graph()\n",
    "with train_graph.as_default():\n",
    "    vocab_size = len(int_to_vocab)\n",
    "    input_text, targets, lr = get_inputs()\n",
    "    input_data_shape = tf.shape(input_text)\n",
    "    cell, initial_state = get_init_cell(input_data_shape[0], rnn_size)\n",
    "    logits, final_state = build_nn(cell, rnn_size, input_text, vocab_size)\n",
    "\n",
    "    # Probabilities for generating words\n",
    "    probs = tf.nn.softmax(logits, name='probs')\n",
    "\n",
    "    # Loss function\n",
    "    cost = seq2seq.sequence_loss(\n",
    "        logits,\n",
    "        targets,\n",
    "        tf.ones([input_data_shape[0], input_data_shape[1]]))\n",
    "\n",
    "    # Optimizer\n",
    "    optimizer = tf.train.AdamOptimizer(lr)\n",
    "\n",
    "    # Gradient Clipping\n",
    "    gradients = optimizer.compute_gradients(cost)\n",
    "    capped_gradients = [(tf.clip_by_value(grad, -1., 1.), var) for grad, var in gradients]\n",
    "    train_op = optimizer.apply_gradients(capped_gradients)"
   ]
  },
  {
   "cell_type": "markdown",
   "metadata": {
    "deletable": true,
    "editable": true
   },
   "source": [
    "## Train\n",
    "Train the neural network on the preprocessed data.  If you have a hard time getting a good loss, check the [forms](https://discussions.udacity.com/) to see if anyone is having the same problem."
   ]
  },
  {
   "cell_type": "code",
   "execution_count": 72,
   "metadata": {
    "collapsed": false,
    "deletable": true,
    "editable": true
   },
   "outputs": [
    {
     "name": "stdout",
     "output_type": "stream",
     "text": [
      "Epoch   0 Batch    0/21   train_loss = 8.827\n",
      "Epoch   0 Batch    5/21   train_loss = 6.615\n",
      "Epoch   0 Batch   10/21   train_loss = 6.447\n",
      "Epoch   0 Batch   15/21   train_loss = 6.214\n",
      "Epoch   0 Batch   20/21   train_loss = 6.212\n",
      "Epoch   1 Batch    4/21   train_loss = 6.134\n",
      "Epoch   1 Batch    9/21   train_loss = 6.077\n",
      "Epoch   1 Batch   14/21   train_loss = 5.984\n",
      "Epoch   1 Batch   19/21   train_loss = 6.035\n",
      "Epoch   2 Batch    3/21   train_loss = 5.987\n",
      "Epoch   2 Batch    8/21   train_loss = 5.952\n",
      "Epoch   2 Batch   13/21   train_loss = 5.982\n",
      "Epoch   2 Batch   18/21   train_loss = 5.911\n",
      "Epoch   3 Batch    2/21   train_loss = 5.951\n",
      "Epoch   3 Batch    7/21   train_loss = 5.918\n",
      "Epoch   3 Batch   12/21   train_loss = 5.987\n",
      "Epoch   3 Batch   17/21   train_loss = 5.920\n",
      "Epoch   4 Batch    1/21   train_loss = 5.944\n",
      "Epoch   4 Batch    6/21   train_loss = 5.892\n",
      "Epoch   4 Batch   11/21   train_loss = 5.870\n",
      "Epoch   4 Batch   16/21   train_loss = 5.847\n",
      "Epoch   5 Batch    0/21   train_loss = 5.822\n",
      "Epoch   5 Batch    5/21   train_loss = 5.705\n",
      "Epoch   5 Batch   10/21   train_loss = 5.729\n",
      "Epoch   5 Batch   15/21   train_loss = 5.737\n",
      "Epoch   5 Batch   20/21   train_loss = 5.811\n",
      "Epoch   6 Batch    4/21   train_loss = 5.823\n",
      "Epoch   6 Batch    9/21   train_loss = 5.772\n",
      "Epoch   6 Batch   14/21   train_loss = 5.628\n",
      "Epoch   6 Batch   19/21   train_loss = 5.637\n",
      "Epoch   7 Batch    3/21   train_loss = 5.545\n",
      "Epoch   7 Batch    8/21   train_loss = 5.503\n",
      "Epoch   7 Batch   13/21   train_loss = 5.524\n",
      "Epoch   7 Batch   18/21   train_loss = 5.392\n",
      "Epoch   8 Batch    2/21   train_loss = 5.369\n",
      "Epoch   8 Batch    7/21   train_loss = 5.238\n",
      "Epoch   8 Batch   12/21   train_loss = 5.294\n",
      "Epoch   8 Batch   17/21   train_loss = 5.184\n",
      "Epoch   9 Batch    1/21   train_loss = 5.223\n",
      "Epoch   9 Batch    6/21   train_loss = 5.146\n",
      "Epoch   9 Batch   11/21   train_loss = 5.127\n",
      "Epoch   9 Batch   16/21   train_loss = 5.141\n",
      "Epoch  10 Batch    0/21   train_loss = 5.110\n",
      "Epoch  10 Batch    5/21   train_loss = 5.010\n",
      "Epoch  10 Batch   10/21   train_loss = 4.970\n",
      "Epoch  10 Batch   15/21   train_loss = 4.991\n",
      "Epoch  10 Batch   20/21   train_loss = 5.088\n",
      "Epoch  11 Batch    4/21   train_loss = 5.112\n",
      "Epoch  11 Batch    9/21   train_loss = 4.989\n",
      "Epoch  11 Batch   14/21   train_loss = 4.874\n",
      "Epoch  11 Batch   19/21   train_loss = 4.965\n",
      "Epoch  12 Batch    3/21   train_loss = 4.918\n",
      "Epoch  12 Batch    8/21   train_loss = 4.892\n",
      "Epoch  12 Batch   13/21   train_loss = 4.913\n",
      "Epoch  12 Batch   18/21   train_loss = 4.847\n",
      "Epoch  13 Batch    2/21   train_loss = 4.806\n",
      "Epoch  13 Batch    7/21   train_loss = 4.786\n",
      "Epoch  13 Batch   12/21   train_loss = 4.814\n",
      "Epoch  13 Batch   17/21   train_loss = 4.763\n",
      "Epoch  14 Batch    1/21   train_loss = 4.819\n",
      "Epoch  14 Batch    6/21   train_loss = 4.754\n",
      "Epoch  14 Batch   11/21   train_loss = 4.717\n",
      "Epoch  14 Batch   16/21   train_loss = 4.755\n",
      "Epoch  15 Batch    0/21   train_loss = 4.767\n",
      "Epoch  15 Batch    5/21   train_loss = 4.645\n",
      "Epoch  15 Batch   10/21   train_loss = 4.607\n",
      "Epoch  15 Batch   15/21   train_loss = 4.646\n",
      "Epoch  15 Batch   20/21   train_loss = 4.737\n",
      "Epoch  16 Batch    4/21   train_loss = 4.759\n",
      "Epoch  16 Batch    9/21   train_loss = 4.678\n",
      "Epoch  16 Batch   14/21   train_loss = 4.537\n",
      "Epoch  16 Batch   19/21   train_loss = 4.647\n",
      "Epoch  17 Batch    3/21   train_loss = 4.664\n",
      "Epoch  17 Batch    8/21   train_loss = 4.643\n",
      "Epoch  17 Batch   13/21   train_loss = 4.645\n",
      "Epoch  17 Batch   18/21   train_loss = 4.626\n",
      "Epoch  18 Batch    2/21   train_loss = 4.708\n",
      "Epoch  18 Batch    7/21   train_loss = 4.603\n",
      "Epoch  18 Batch   12/21   train_loss = 4.652\n",
      "Epoch  18 Batch   17/21   train_loss = 4.523\n",
      "Epoch  19 Batch    1/21   train_loss = 4.597\n",
      "Epoch  19 Batch    6/21   train_loss = 4.530\n",
      "Epoch  19 Batch   11/21   train_loss = 4.464\n",
      "Epoch  19 Batch   16/21   train_loss = 4.511\n",
      "Epoch  20 Batch    0/21   train_loss = 4.516\n",
      "Epoch  20 Batch    5/21   train_loss = 4.387\n",
      "Epoch  20 Batch   10/21   train_loss = 4.404\n",
      "Epoch  20 Batch   15/21   train_loss = 4.419\n",
      "Epoch  20 Batch   20/21   train_loss = 4.427\n",
      "Epoch  21 Batch    4/21   train_loss = 4.543\n",
      "Epoch  21 Batch    9/21   train_loss = 4.445\n",
      "Epoch  21 Batch   14/21   train_loss = 4.316\n",
      "Epoch  21 Batch   19/21   train_loss = 4.405\n",
      "Epoch  22 Batch    3/21   train_loss = 4.454\n",
      "Epoch  22 Batch    8/21   train_loss = 4.371\n",
      "Epoch  22 Batch   13/21   train_loss = 4.411\n",
      "Epoch  22 Batch   18/21   train_loss = 4.335\n",
      "Epoch  23 Batch    2/21   train_loss = 4.349\n",
      "Epoch  23 Batch    7/21   train_loss = 4.353\n",
      "Epoch  23 Batch   12/21   train_loss = 4.370\n",
      "Epoch  23 Batch   17/21   train_loss = 4.289\n",
      "Epoch  24 Batch    1/21   train_loss = 4.373\n",
      "Epoch  24 Batch    6/21   train_loss = 4.286\n",
      "Epoch  24 Batch   11/21   train_loss = 4.300\n",
      "Epoch  24 Batch   16/21   train_loss = 4.375\n",
      "Epoch  25 Batch    0/21   train_loss = 4.362\n",
      "Epoch  25 Batch    5/21   train_loss = 4.229\n",
      "Epoch  25 Batch   10/21   train_loss = 4.264\n",
      "Epoch  25 Batch   15/21   train_loss = 4.321\n",
      "Epoch  25 Batch   20/21   train_loss = 4.321\n",
      "Epoch  26 Batch    4/21   train_loss = 4.389\n",
      "Epoch  26 Batch    9/21   train_loss = 4.299\n",
      "Epoch  26 Batch   14/21   train_loss = 4.234\n",
      "Epoch  26 Batch   19/21   train_loss = 4.259\n",
      "Epoch  27 Batch    3/21   train_loss = 4.250\n",
      "Epoch  27 Batch    8/21   train_loss = 4.301\n",
      "Epoch  27 Batch   13/21   train_loss = 4.307\n",
      "Epoch  27 Batch   18/21   train_loss = 4.236\n",
      "Epoch  28 Batch    2/21   train_loss = 4.228\n",
      "Epoch  28 Batch    7/21   train_loss = 4.223\n",
      "Epoch  28 Batch   12/21   train_loss = 4.259\n",
      "Epoch  28 Batch   17/21   train_loss = 4.071\n",
      "Epoch  29 Batch    1/21   train_loss = 4.119\n",
      "Epoch  29 Batch    6/21   train_loss = 4.105\n",
      "Epoch  29 Batch   11/21   train_loss = 4.025\n",
      "Epoch  29 Batch   16/21   train_loss = 4.033\n",
      "Epoch  30 Batch    0/21   train_loss = 4.074\n",
      "Epoch  30 Batch    5/21   train_loss = 4.010\n",
      "Epoch  30 Batch   10/21   train_loss = 3.935\n",
      "Epoch  30 Batch   15/21   train_loss = 4.014\n",
      "Epoch  30 Batch   20/21   train_loss = 3.999\n",
      "Epoch  31 Batch    4/21   train_loss = 4.070\n",
      "Epoch  31 Batch    9/21   train_loss = 4.018\n",
      "Epoch  31 Batch   14/21   train_loss = 3.886\n",
      "Epoch  31 Batch   19/21   train_loss = 3.914\n",
      "Epoch  32 Batch    3/21   train_loss = 3.991\n",
      "Epoch  32 Batch    8/21   train_loss = 4.058\n",
      "Epoch  32 Batch   13/21   train_loss = 3.978\n",
      "Epoch  32 Batch   18/21   train_loss = 3.981\n",
      "Epoch  33 Batch    2/21   train_loss = 4.063\n",
      "Epoch  33 Batch    7/21   train_loss = 4.006\n",
      "Epoch  33 Batch   12/21   train_loss = 4.027\n",
      "Epoch  33 Batch   17/21   train_loss = 3.937\n",
      "Epoch  34 Batch    1/21   train_loss = 3.985\n",
      "Epoch  34 Batch    6/21   train_loss = 3.953\n",
      "Epoch  34 Batch   11/21   train_loss = 3.923\n",
      "Epoch  34 Batch   16/21   train_loss = 3.903\n",
      "Epoch  35 Batch    0/21   train_loss = 3.966\n",
      "Epoch  35 Batch    5/21   train_loss = 3.887\n",
      "Epoch  35 Batch   10/21   train_loss = 3.836\n",
      "Epoch  35 Batch   15/21   train_loss = 3.870\n",
      "Epoch  35 Batch   20/21   train_loss = 3.846\n",
      "Epoch  36 Batch    4/21   train_loss = 4.025\n",
      "Epoch  36 Batch    9/21   train_loss = 3.851\n",
      "Epoch  36 Batch   14/21   train_loss = 3.770\n",
      "Epoch  36 Batch   19/21   train_loss = 3.809\n",
      "Epoch  37 Batch    3/21   train_loss = 3.854\n",
      "Epoch  37 Batch    8/21   train_loss = 3.898\n",
      "Epoch  37 Batch   13/21   train_loss = 3.899\n",
      "Epoch  37 Batch   18/21   train_loss = 3.854\n",
      "Epoch  38 Batch    2/21   train_loss = 3.981\n",
      "Epoch  38 Batch    7/21   train_loss = 3.916\n",
      "Epoch  38 Batch   12/21   train_loss = 3.920\n",
      "Epoch  38 Batch   17/21   train_loss = 3.728\n",
      "Epoch  39 Batch    1/21   train_loss = 3.752\n",
      "Epoch  39 Batch    6/21   train_loss = 3.785\n",
      "Epoch  39 Batch   11/21   train_loss = 3.681\n",
      "Epoch  39 Batch   16/21   train_loss = 3.713\n",
      "Epoch  40 Batch    0/21   train_loss = 3.720\n",
      "Epoch  40 Batch    5/21   train_loss = 3.663\n",
      "Epoch  40 Batch   10/21   train_loss = 3.647\n",
      "Epoch  40 Batch   15/21   train_loss = 3.602\n",
      "Epoch  40 Batch   20/21   train_loss = 3.615\n",
      "Epoch  41 Batch    4/21   train_loss = 3.751\n",
      "Epoch  41 Batch    9/21   train_loss = 3.623\n",
      "Epoch  41 Batch   14/21   train_loss = 3.533\n",
      "Epoch  41 Batch   19/21   train_loss = 3.586\n",
      "Epoch  42 Batch    3/21   train_loss = 3.614\n",
      "Epoch  42 Batch    8/21   train_loss = 3.669\n",
      "Epoch  42 Batch   13/21   train_loss = 3.546\n",
      "Epoch  42 Batch   18/21   train_loss = 3.542\n",
      "Epoch  43 Batch    2/21   train_loss = 3.650\n",
      "Epoch  43 Batch    7/21   train_loss = 3.554\n",
      "Epoch  43 Batch   12/21   train_loss = 3.652\n",
      "Epoch  43 Batch   17/21   train_loss = 3.546\n",
      "Epoch  44 Batch    1/21   train_loss = 3.416\n",
      "Epoch  44 Batch    6/21   train_loss = 3.584\n",
      "Epoch  44 Batch   11/21   train_loss = 3.455\n",
      "Epoch  44 Batch   16/21   train_loss = 3.444\n",
      "Epoch  45 Batch    0/21   train_loss = 3.602\n",
      "Epoch  45 Batch    5/21   train_loss = 3.425\n",
      "Epoch  45 Batch   10/21   train_loss = 3.466\n",
      "Epoch  45 Batch   15/21   train_loss = 3.562\n",
      "Epoch  45 Batch   20/21   train_loss = 3.556\n",
      "Epoch  46 Batch    4/21   train_loss = 3.616\n",
      "Epoch  46 Batch    9/21   train_loss = 3.456\n",
      "Epoch  46 Batch   14/21   train_loss = 3.359\n",
      "Epoch  46 Batch   19/21   train_loss = 3.490\n",
      "Epoch  47 Batch    3/21   train_loss = 3.523\n",
      "Epoch  47 Batch    8/21   train_loss = 3.570\n",
      "Epoch  47 Batch   13/21   train_loss = 3.571\n",
      "Epoch  47 Batch   18/21   train_loss = 3.471\n",
      "Epoch  48 Batch    2/21   train_loss = 3.624\n",
      "Epoch  48 Batch    7/21   train_loss = 3.445\n",
      "Epoch  48 Batch   12/21   train_loss = 3.468\n",
      "Epoch  48 Batch   17/21   train_loss = 3.354\n",
      "Epoch  49 Batch    1/21   train_loss = 3.310\n",
      "Epoch  49 Batch    6/21   train_loss = 3.354\n",
      "Epoch  49 Batch   11/21   train_loss = 3.205\n",
      "Epoch  49 Batch   16/21   train_loss = 3.173\n",
      "Epoch  50 Batch    0/21   train_loss = 3.258\n",
      "Epoch  50 Batch    5/21   train_loss = 3.223\n",
      "Epoch  50 Batch   10/21   train_loss = 3.115\n",
      "Epoch  50 Batch   15/21   train_loss = 3.162\n",
      "Epoch  50 Batch   20/21   train_loss = 3.083\n",
      "Epoch  51 Batch    4/21   train_loss = 3.133\n",
      "Epoch  51 Batch    9/21   train_loss = 3.031\n",
      "Epoch  51 Batch   14/21   train_loss = 3.028\n",
      "Epoch  51 Batch   19/21   train_loss = 3.052\n",
      "Epoch  52 Batch    3/21   train_loss = 3.062\n",
      "Epoch  52 Batch    8/21   train_loss = 3.050\n",
      "Epoch  52 Batch   13/21   train_loss = 2.980\n",
      "Epoch  52 Batch   18/21   train_loss = 3.002\n",
      "Epoch  53 Batch    2/21   train_loss = 3.141\n",
      "Epoch  53 Batch    7/21   train_loss = 3.026\n",
      "Epoch  53 Batch   12/21   train_loss = 3.040\n",
      "Epoch  53 Batch   17/21   train_loss = 2.964\n",
      "Epoch  54 Batch    1/21   train_loss = 2.908\n",
      "Epoch  54 Batch    6/21   train_loss = 2.946\n",
      "Epoch  54 Batch   11/21   train_loss = 2.938\n",
      "Epoch  54 Batch   16/21   train_loss = 2.910\n",
      "Epoch  55 Batch    0/21   train_loss = 3.032\n",
      "Epoch  55 Batch    5/21   train_loss = 2.990\n",
      "Epoch  55 Batch   10/21   train_loss = 2.913\n",
      "Epoch  55 Batch   15/21   train_loss = 3.030\n",
      "Epoch  55 Batch   20/21   train_loss = 2.979\n",
      "Epoch  56 Batch    4/21   train_loss = 3.036\n",
      "Epoch  56 Batch    9/21   train_loss = 2.963\n",
      "Epoch  56 Batch   14/21   train_loss = 2.861\n",
      "Epoch  56 Batch   19/21   train_loss = 2.907\n",
      "Epoch  57 Batch    3/21   train_loss = 3.103\n",
      "Epoch  57 Batch    8/21   train_loss = 3.076\n",
      "Epoch  57 Batch   13/21   train_loss = 3.133\n",
      "Epoch  57 Batch   18/21   train_loss = 3.115\n",
      "Epoch  58 Batch    2/21   train_loss = 3.148\n",
      "Epoch  58 Batch    7/21   train_loss = 2.972\n",
      "Epoch  58 Batch   12/21   train_loss = 2.971\n",
      "Epoch  58 Batch   17/21   train_loss = 2.921\n",
      "Epoch  59 Batch    1/21   train_loss = 2.839\n",
      "Epoch  59 Batch    6/21   train_loss = 2.935\n",
      "Epoch  59 Batch   11/21   train_loss = 2.825\n",
      "Epoch  59 Batch   16/21   train_loss = 2.785\n",
      "Epoch  60 Batch    0/21   train_loss = 2.822\n",
      "Epoch  60 Batch    5/21   train_loss = 2.765\n",
      "Epoch  60 Batch   10/21   train_loss = 2.664\n",
      "Epoch  60 Batch   15/21   train_loss = 2.690\n",
      "Epoch  60 Batch   20/21   train_loss = 2.673\n",
      "Epoch  61 Batch    4/21   train_loss = 2.662\n",
      "Epoch  61 Batch    9/21   train_loss = 2.537\n",
      "Epoch  61 Batch   14/21   train_loss = 2.501\n",
      "Epoch  61 Batch   19/21   train_loss = 2.496\n",
      "Epoch  62 Batch    3/21   train_loss = 2.588\n",
      "Epoch  62 Batch    8/21   train_loss = 2.586\n",
      "Epoch  62 Batch   13/21   train_loss = 2.523\n",
      "Epoch  62 Batch   18/21   train_loss = 2.539\n",
      "Epoch  63 Batch    2/21   train_loss = 2.650\n",
      "Epoch  63 Batch    7/21   train_loss = 2.528\n",
      "Epoch  63 Batch   12/21   train_loss = 2.558\n",
      "Epoch  63 Batch   17/21   train_loss = 2.465\n",
      "Epoch  64 Batch    1/21   train_loss = 2.361\n",
      "Epoch  64 Batch    6/21   train_loss = 2.434\n",
      "Epoch  64 Batch   11/21   train_loss = 2.439\n",
      "Epoch  64 Batch   16/21   train_loss = 2.467\n",
      "Epoch  65 Batch    0/21   train_loss = 2.584\n",
      "Epoch  65 Batch    5/21   train_loss = 2.470\n",
      "Epoch  65 Batch   10/21   train_loss = 2.415\n",
      "Epoch  65 Batch   15/21   train_loss = 2.595\n",
      "Epoch  65 Batch   20/21   train_loss = 2.521\n",
      "Epoch  66 Batch    4/21   train_loss = 2.555\n",
      "Epoch  66 Batch    9/21   train_loss = 2.493\n",
      "Epoch  66 Batch   14/21   train_loss = 2.378\n",
      "Epoch  66 Batch   19/21   train_loss = 2.489\n",
      "Epoch  67 Batch    3/21   train_loss = 2.672\n",
      "Epoch  67 Batch    8/21   train_loss = 2.548\n",
      "Epoch  67 Batch   13/21   train_loss = 2.489\n",
      "Epoch  67 Batch   18/21   train_loss = 2.575\n",
      "Epoch  68 Batch    2/21   train_loss = 2.604\n",
      "Epoch  68 Batch    7/21   train_loss = 2.424\n",
      "Epoch  68 Batch   12/21   train_loss = 2.476\n",
      "Epoch  68 Batch   17/21   train_loss = 2.411\n",
      "Epoch  69 Batch    1/21   train_loss = 2.353\n",
      "Epoch  69 Batch    6/21   train_loss = 2.601\n",
      "Epoch  69 Batch   11/21   train_loss = 2.497\n",
      "Epoch  69 Batch   16/21   train_loss = 2.413\n",
      "Epoch  70 Batch    0/21   train_loss = 2.466\n",
      "Epoch  70 Batch    5/21   train_loss = 2.372\n",
      "Epoch  70 Batch   10/21   train_loss = 2.339\n",
      "Epoch  70 Batch   15/21   train_loss = 2.350\n",
      "Epoch  70 Batch   20/21   train_loss = 2.301\n",
      "Epoch  71 Batch    4/21   train_loss = 2.365\n",
      "Epoch  71 Batch    9/21   train_loss = 2.271\n",
      "Epoch  71 Batch   14/21   train_loss = 2.170\n",
      "Epoch  71 Batch   19/21   train_loss = 2.200\n",
      "Epoch  72 Batch    3/21   train_loss = 2.277\n",
      "Epoch  72 Batch    8/21   train_loss = 2.229\n",
      "Epoch  72 Batch   13/21   train_loss = 2.128\n",
      "Epoch  72 Batch   18/21   train_loss = 2.161\n",
      "Epoch  73 Batch    2/21   train_loss = 2.262\n",
      "Epoch  73 Batch    7/21   train_loss = 2.129\n",
      "Epoch  73 Batch   12/21   train_loss = 2.119\n",
      "Epoch  73 Batch   17/21   train_loss = 2.041\n",
      "Epoch  74 Batch    1/21   train_loss = 1.990\n",
      "Epoch  74 Batch    6/21   train_loss = 2.138\n",
      "Epoch  74 Batch   11/21   train_loss = 2.212\n",
      "Epoch  74 Batch   16/21   train_loss = 2.178\n",
      "Epoch  75 Batch    0/21   train_loss = 2.168\n",
      "Epoch  75 Batch    5/21   train_loss = 2.076\n",
      "Epoch  75 Batch   10/21   train_loss = 2.107\n",
      "Epoch  75 Batch   15/21   train_loss = 2.157\n",
      "Epoch  75 Batch   20/21   train_loss = 2.078\n",
      "Epoch  76 Batch    4/21   train_loss = 2.065\n",
      "Epoch  76 Batch    9/21   train_loss = 2.076\n",
      "Epoch  76 Batch   14/21   train_loss = 1.981\n",
      "Epoch  76 Batch   19/21   train_loss = 1.990\n",
      "Epoch  77 Batch    3/21   train_loss = 2.054\n",
      "Epoch  77 Batch    8/21   train_loss = 2.026\n",
      "Epoch  77 Batch   13/21   train_loss = 1.942\n",
      "Epoch  77 Batch   18/21   train_loss = 1.958\n",
      "Epoch  78 Batch    2/21   train_loss = 2.005\n",
      "Epoch  78 Batch    7/21   train_loss = 1.898\n",
      "Epoch  78 Batch   12/21   train_loss = 1.931\n",
      "Epoch  78 Batch   17/21   train_loss = 1.834\n",
      "Epoch  79 Batch    1/21   train_loss = 1.798\n",
      "Epoch  79 Batch    6/21   train_loss = 1.834\n",
      "Epoch  79 Batch   11/21   train_loss = 1.796\n",
      "Epoch  79 Batch   16/21   train_loss = 1.740\n",
      "Epoch  80 Batch    0/21   train_loss = 1.747\n",
      "Epoch  80 Batch    5/21   train_loss = 1.724\n",
      "Epoch  80 Batch   10/21   train_loss = 1.732\n",
      "Epoch  80 Batch   15/21   train_loss = 1.671\n",
      "Epoch  80 Batch   20/21   train_loss = 1.566\n",
      "Epoch  81 Batch    4/21   train_loss = 1.613\n",
      "Epoch  81 Batch    9/21   train_loss = 1.583\n",
      "Epoch  81 Batch   14/21   train_loss = 1.494\n",
      "Epoch  81 Batch   19/21   train_loss = 1.562\n",
      "Epoch  82 Batch    3/21   train_loss = 1.556\n",
      "Epoch  82 Batch    8/21   train_loss = 1.627\n",
      "Epoch  82 Batch   13/21   train_loss = 1.529\n",
      "Epoch  82 Batch   18/21   train_loss = 1.552\n",
      "Epoch  83 Batch    2/21   train_loss = 1.639\n",
      "Epoch  83 Batch    7/21   train_loss = 1.540\n",
      "Epoch  83 Batch   12/21   train_loss = 1.534\n",
      "Epoch  83 Batch   17/21   train_loss = 1.428\n",
      "Epoch  84 Batch    1/21   train_loss = 1.409\n",
      "Epoch  84 Batch    6/21   train_loss = 1.434\n",
      "Epoch  84 Batch   11/21   train_loss = 1.545\n",
      "Epoch  84 Batch   16/21   train_loss = 1.449\n",
      "Epoch  85 Batch    0/21   train_loss = 1.431\n",
      "Epoch  85 Batch    5/21   train_loss = 1.428\n",
      "Epoch  85 Batch   10/21   train_loss = 1.486\n",
      "Epoch  85 Batch   15/21   train_loss = 1.464\n",
      "Epoch  85 Batch   20/21   train_loss = 1.396\n",
      "Epoch  86 Batch    4/21   train_loss = 1.447\n",
      "Epoch  86 Batch    9/21   train_loss = 1.486\n",
      "Epoch  86 Batch   14/21   train_loss = 1.394\n",
      "Epoch  86 Batch   19/21   train_loss = 1.517\n",
      "Epoch  87 Batch    3/21   train_loss = 1.440\n",
      "Epoch  87 Batch    8/21   train_loss = 1.487\n",
      "Epoch  87 Batch   13/21   train_loss = 1.437\n",
      "Epoch  87 Batch   18/21   train_loss = 1.394\n",
      "Epoch  88 Batch    2/21   train_loss = 1.476\n",
      "Epoch  88 Batch    7/21   train_loss = 1.507\n",
      "Epoch  88 Batch   12/21   train_loss = 1.488\n",
      "Epoch  88 Batch   17/21   train_loss = 1.447\n",
      "Epoch  89 Batch    1/21   train_loss = 1.407\n",
      "Epoch  89 Batch    6/21   train_loss = 1.460\n",
      "Epoch  89 Batch   11/21   train_loss = 1.480\n",
      "Epoch  89 Batch   16/21   train_loss = 1.431\n",
      "Epoch  90 Batch    0/21   train_loss = 1.414\n",
      "Epoch  90 Batch    5/21   train_loss = 1.364\n",
      "Epoch  90 Batch   10/21   train_loss = 1.363\n",
      "Epoch  90 Batch   15/21   train_loss = 1.588\n",
      "Epoch  90 Batch   20/21   train_loss = 1.607\n",
      "Epoch  91 Batch    4/21   train_loss = 1.642\n",
      "Epoch  91 Batch    9/21   train_loss = 1.665\n",
      "Epoch  91 Batch   14/21   train_loss = 1.349\n",
      "Epoch  91 Batch   19/21   train_loss = 1.374\n",
      "Epoch  92 Batch    3/21   train_loss = 1.415\n",
      "Epoch  92 Batch    8/21   train_loss = 1.425\n",
      "Epoch  92 Batch   13/21   train_loss = 1.405\n",
      "Epoch  92 Batch   18/21   train_loss = 1.324\n",
      "Epoch  93 Batch    2/21   train_loss = 1.404\n",
      "Epoch  93 Batch    7/21   train_loss = 1.247\n",
      "Epoch  93 Batch   12/21   train_loss = 1.240\n",
      "Epoch  93 Batch   17/21   train_loss = 1.179\n",
      "Epoch  94 Batch    1/21   train_loss = 1.133\n",
      "Epoch  94 Batch    6/21   train_loss = 1.167\n",
      "Epoch  94 Batch   11/21   train_loss = 1.222\n",
      "Epoch  94 Batch   16/21   train_loss = 1.236\n",
      "Epoch  95 Batch    0/21   train_loss = 1.215\n",
      "Epoch  95 Batch    5/21   train_loss = 1.215\n",
      "Epoch  95 Batch   10/21   train_loss = 1.155\n",
      "Epoch  95 Batch   15/21   train_loss = 1.151\n",
      "Epoch  95 Batch   20/21   train_loss = 1.035\n",
      "Epoch  96 Batch    4/21   train_loss = 1.120\n",
      "Epoch  96 Batch    9/21   train_loss = 1.141\n",
      "Epoch  96 Batch   14/21   train_loss = 1.074\n",
      "Epoch  96 Batch   19/21   train_loss = 1.206\n",
      "Epoch  97 Batch    3/21   train_loss = 1.276\n",
      "Epoch  97 Batch    8/21   train_loss = 1.419\n",
      "Epoch  97 Batch   13/21   train_loss = 1.279\n",
      "Epoch  97 Batch   18/21   train_loss = 1.173\n",
      "Epoch  98 Batch    2/21   train_loss = 1.194\n",
      "Epoch  98 Batch    7/21   train_loss = 1.173\n",
      "Epoch  98 Batch   12/21   train_loss = 1.272\n",
      "Epoch  98 Batch   17/21   train_loss = 1.218\n",
      "Epoch  99 Batch    1/21   train_loss = 1.141\n",
      "Epoch  99 Batch    6/21   train_loss = 1.149\n",
      "Epoch  99 Batch   11/21   train_loss = 1.102\n",
      "Epoch  99 Batch   16/21   train_loss = 1.017\n",
      "Model Trained and Saved\n"
     ]
    }
   ],
   "source": [
    "\"\"\"\n",
    "DON'T MODIFY ANYTHING IN THIS CELL\n",
    "\"\"\"\n",
    "batches = get_batches(int_text, batch_size, seq_length)\n",
    "\n",
    "with tf.Session(graph=train_graph) as sess:\n",
    "    sess.run(tf.global_variables_initializer())\n",
    "\n",
    "    for epoch_i in range(num_epochs):\n",
    "        state = sess.run(initial_state, {input_text: batches[0][0]})\n",
    "\n",
    "        for batch_i, (x, y) in enumerate(batches):\n",
    "            feed = {\n",
    "                input_text: x,\n",
    "                targets: y,\n",
    "                initial_state: state,\n",
    "                lr: learning_rate}\n",
    "            train_loss, state, _ = sess.run([cost, final_state, train_op], feed)\n",
    "\n",
    "            # Show every <show_every_n_batches> batches\n",
    "            if (epoch_i * len(batches) + batch_i) % show_every_n_batches == 0:\n",
    "                print('Epoch {:>3} Batch {:>4}/{}   train_loss = {:.3f}'.format(\n",
    "                    epoch_i,\n",
    "                    batch_i,\n",
    "                    len(batches),\n",
    "                    train_loss))\n",
    "\n",
    "    # Save Model\n",
    "    saver = tf.train.Saver()\n",
    "    saver.save(sess, save_dir)\n",
    "    print('Model Trained and Saved')"
   ]
  },
  {
   "cell_type": "markdown",
   "metadata": {
    "deletable": true,
    "editable": true
   },
   "source": [
    "## Save Parameters\n",
    "Save `seq_length` and `save_dir` for generating a new TV script."
   ]
  },
  {
   "cell_type": "code",
   "execution_count": 73,
   "metadata": {
    "collapsed": false,
    "deletable": true,
    "editable": true
   },
   "outputs": [],
   "source": [
    "\"\"\"\n",
    "DON'T MODIFY ANYTHING IN THIS CELL\n",
    "\"\"\"\n",
    "# Save parameters for checkpoint\n",
    "helper.save_params((seq_length, save_dir))"
   ]
  },
  {
   "cell_type": "markdown",
   "metadata": {
    "deletable": true,
    "editable": true
   },
   "source": [
    "# Checkpoint"
   ]
  },
  {
   "cell_type": "code",
   "execution_count": 74,
   "metadata": {
    "collapsed": false,
    "deletable": true,
    "editable": true
   },
   "outputs": [],
   "source": [
    "\"\"\"\n",
    "DON'T MODIFY ANYTHING IN THIS CELL\n",
    "\"\"\"\n",
    "import tensorflow as tf\n",
    "import numpy as np\n",
    "import helper\n",
    "import problem_unittests as tests\n",
    "\n",
    "_, vocab_to_int, int_to_vocab, token_dict = helper.load_preprocess()\n",
    "seq_length, load_dir = helper.load_params()"
   ]
  },
  {
   "cell_type": "markdown",
   "metadata": {
    "deletable": true,
    "editable": true
   },
   "source": [
    "## Implement Generate Functions\n",
    "### Get Tensors\n",
    "Get tensors from `loaded_graph` using the function [`get_tensor_by_name()`](https://www.tensorflow.org/api_docs/python/tf/Graph#get_tensor_by_name).  Get the tensors using the following names:\n",
    "- \"input:0\"\n",
    "- \"initial_state:0\"\n",
    "- \"final_state:0\"\n",
    "- \"probs:0\"\n",
    "\n",
    "Return the tensors in the following tuple `(InputTensor, InitialStateTensor, FinalStateTensor, ProbsTensor)` "
   ]
  },
  {
   "cell_type": "code",
   "execution_count": 75,
   "metadata": {
    "collapsed": false,
    "deletable": true,
    "editable": true
   },
   "outputs": [
    {
     "name": "stdout",
     "output_type": "stream",
     "text": [
      "Tests Passed\n"
     ]
    }
   ],
   "source": [
    "def get_tensors(loaded_graph):\n",
    "    \"\"\"\n",
    "    Get input, initial state, final state, and probabilities tensor from <loaded_graph>\n",
    "    :param loaded_graph: TensorFlow graph loaded from file\n",
    "    :return: Tuple (InputTensor, InitialStateTensor, FinalStateTensor, ProbsTensor)\n",
    "    \"\"\"\n",
    "    # TODO: Implement Function\n",
    "    input_tensor = loaded_graph.get_tensor_by_name('input:0')\n",
    "    initial_state_tensor = loaded_graph.get_tensor_by_name('initial_state:0')\n",
    "    final_state_tensor = loaded_graph.get_tensor_by_name('final_state:0')\n",
    "    probs_tensor = loaded_graph.get_tensor_by_name('probs:0')\n",
    "    return input_tensor, initial_state_tensor, final_state_tensor, probs_tensor\n",
    "\n",
    "\n",
    "\"\"\"\n",
    "DON'T MODIFY ANYTHING IN THIS CELL THAT IS BELOW THIS LINE\n",
    "\"\"\"\n",
    "tests.test_get_tensors(get_tensors)"
   ]
  },
  {
   "cell_type": "markdown",
   "metadata": {
    "deletable": true,
    "editable": true
   },
   "source": [
    "### Choose Word\n",
    "Implement the `pick_word()` function to select the next word using `probabilities`."
   ]
  },
  {
   "cell_type": "code",
   "execution_count": 76,
   "metadata": {
    "collapsed": false,
    "deletable": true,
    "editable": true
   },
   "outputs": [
    {
     "name": "stdout",
     "output_type": "stream",
     "text": [
      "Tests Passed\n"
     ]
    }
   ],
   "source": [
    "def pick_word(probabilities, int_to_vocab):\n",
    "    \"\"\"\n",
    "    Pick the next word in the generated text\n",
    "    :param probabilities: Probabilites of the next word\n",
    "    :param int_to_vocab: Dictionary of word ids as the keys and words as the values\n",
    "    :return: String of the predicted word\n",
    "    \"\"\"\n",
    "    # TODO: Implement Function\n",
    "    max_idx = np.random.choice(len(int_to_vocab), 1, p=probabilities)\n",
    "    return int_to_vocab[max_idx[0]]\n",
    "\n",
    "\n",
    "\"\"\"\n",
    "DON'T MODIFY ANYTHING IN THIS CELL THAT IS BELOW THIS LINE\n",
    "\"\"\"\n",
    "tests.test_pick_word(pick_word)"
   ]
  },
  {
   "cell_type": "markdown",
   "metadata": {
    "deletable": true,
    "editable": true
   },
   "source": [
    "## Generate TV Script\n",
    "This will generate the TV script for you.  Set `gen_length` to the length of TV script you want to generate."
   ]
  },
  {
   "cell_type": "code",
   "execution_count": 77,
   "metadata": {
    "collapsed": false,
    "deletable": true,
    "editable": true
   },
   "outputs": [
    {
     "name": "stdout",
     "output_type": "stream",
     "text": [
      "homer_simpson: sorry, just you do! i felt a mistake for this, the new bar, and you're just in you.\n",
      "carl_carlson:(impressed) oh, that's true. i was not a duel.\n",
      "homer_simpson: hey hey, i'm not.\n",
      "moe_szyslak: yeah, anybody put the foot this man i gotta wanna wipe up...\n",
      "\n",
      "\n",
      "moe_szyslak: okay, can i get, here has looks a furious man?\n",
      "barney_gumble: oh yeah! care! ow! ow! ow! ow! ow! ow! ow! ow!\n",
      "homer_simpson:(pleading) ah, that's so-- of course--\n",
      "\n",
      "\n",
      "homer_simpson: face marge, get this tap, are... he know--(guttural pulls his throat) fuzzlepitch alive.\n",
      "\n",
      "\n",
      "homer_simpson: our psst, so? let's cut into way?\n",
      "barney_gumble: really? it's how about the monster ma on?\n",
      "moe_szyslak: oh, yeah. it must have. you should loves everything. i know.\n",
      "moe_szyslak: hey, knock this guy snake loves very or\n"
     ]
    }
   ],
   "source": [
    "gen_length = 200\n",
    "# homer_simpson, moe_szyslak, or Barney_Gumble\n",
    "prime_word = 'homer_simpson'\n",
    "\n",
    "\"\"\"\n",
    "DON'T MODIFY ANYTHING IN THIS CELL THAT IS BELOW THIS LINE\n",
    "\"\"\"\n",
    "loaded_graph = tf.Graph()\n",
    "with tf.Session(graph=loaded_graph) as sess:\n",
    "    # Load saved model\n",
    "    loader = tf.train.import_meta_graph(load_dir + '.meta')\n",
    "    loader.restore(sess, load_dir)\n",
    "\n",
    "    # Get Tensors from loaded model\n",
    "    input_text, initial_state, final_state, probs = get_tensors(loaded_graph)\n",
    "\n",
    "    # Sentences generation setup\n",
    "    gen_sentences = [prime_word + ':']\n",
    "    prev_state = sess.run(initial_state, {input_text: np.array([[1]])})\n",
    "\n",
    "    # Generate sentences\n",
    "    for n in range(gen_length):\n",
    "        # Dynamic Input\n",
    "        dyn_input = [[vocab_to_int[word] for word in gen_sentences[-seq_length:]]]\n",
    "        dyn_seq_length = len(dyn_input[0])\n",
    "\n",
    "        # Get Prediction\n",
    "        probabilities, prev_state = sess.run(\n",
    "            [probs, final_state],\n",
    "            {input_text: dyn_input, initial_state: prev_state})\n",
    "        \n",
    "        pred_word = pick_word(probabilities[dyn_seq_length-1], int_to_vocab)\n",
    "\n",
    "        gen_sentences.append(pred_word)\n",
    "    \n",
    "    # Remove tokens\n",
    "    tv_script = ' '.join(gen_sentences)\n",
    "    for key, token in token_dict.items():\n",
    "        ending = ' ' if key in ['\\n', '(', '\"'] else ''\n",
    "        tv_script = tv_script.replace(' ' + token.lower(), key)\n",
    "    tv_script = tv_script.replace('\\n ', '\\n')\n",
    "    tv_script = tv_script.replace('( ', '(')\n",
    "        \n",
    "    print(tv_script)"
   ]
  },
  {
   "cell_type": "markdown",
   "metadata": {
    "deletable": true,
    "editable": true
   },
   "source": [
    "# The TV Script is Nonsensical\n",
    "It's ok if the TV script doesn't make any sense.  We trained on less than a megabyte of text.  In order to get good results, you'll have to use a smaller vocabulary or get more data.  Luckly there's more data!  As we mentioned in the begging of this project, this is a subset of [another dataset](https://www.kaggle.com/wcukierski/the-simpsons-by-the-data).  We didn't have you train on all the data, because that would take too long.  However, you are free to train your neural network on all the data.  After you complete the project, of course.\n",
    "# Submitting This Project\n",
    "When submitting this project, make sure to run all the cells before saving the notebook. Save the notebook file as \"dlnd_tv_script_generation.ipynb\" and save it as a HTML file under \"File\" -> \"Download as\". Include the \"helper.py\" and \"problem_unittests.py\" files in your submission."
   ]
  }
 ],
 "metadata": {
  "anaconda-cloud": {},
  "kernelspec": {
   "display_name": "Python [conda env:dl]",
   "language": "python",
   "name": "conda-env-dl-py"
  },
  "language_info": {
   "codemirror_mode": {
    "name": "ipython",
    "version": 3
   },
   "file_extension": ".py",
   "mimetype": "text/x-python",
   "name": "python",
   "nbconvert_exporter": "python",
   "pygments_lexer": "ipython3",
   "version": "3.5.2"
  }
 },
 "nbformat": 4,
 "nbformat_minor": 0
}
